{
 "cells": [
  {
   "cell_type": "markdown",
   "id": "efb1bb50",
   "metadata": {},
   "source": [
    "# BFS For Path Finding"
   ]
  },
  {
   "cell_type": "code",
   "execution_count": 1,
   "id": "507f5feb",
   "metadata": {},
   "outputs": [],
   "source": [
    "from collections import defaultdict\n",
    "def Breadth_First_Search(graph,start_node,goal_node):\n",
    "    queue=[start_node]\n",
    "    explored=[]\n",
    "    parent={start_node:None}\n",
    "    while queue:\n",
    "        node=queue.pop(0)\n",
    "        explored.append(node)\n",
    "        if node==goal_node:\n",
    "            print_solution(node,parent)\n",
    "            return\n",
    "        for child in graph[node]:\n",
    "            if child not in explored and child not in queue:\n",
    "                queue.append(child)\n",
    "                parent[child]=node\n",
    "    print(\"No Solution\")\n",
    "def print_solution(node,parent):\n",
    "    path=[]\n",
    "    while node is not None:\n",
    "        path.insert(0,node)\n",
    "        node=parent[node]\n",
    "    print(\"->\".join(path))\n",
    "def addEdge(u,v):\n",
    "    graph[u].append(v)"
   ]
  },
  {
   "cell_type": "code",
   "execution_count": 2,
   "id": "072df5bb",
   "metadata": {},
   "outputs": [
    {
     "name": "stdout",
     "output_type": "stream",
     "text": [
      "Enter the number of nodes:9\n",
      "Enter the Node:A\n",
      "Enter the number of edges for node A:3\n",
      "Enter the adjacent vertex of A:F\n",
      "Enter the adjacent vertex of A:C\n",
      "Enter the adjacent vertex of A:B\n",
      "Enter the Node:B\n",
      "Enter the number of edges for node B:3\n",
      "Enter the adjacent vertex of B:A\n",
      "Enter the adjacent vertex of B:C\n",
      "Enter the adjacent vertex of B:G\n",
      "Enter the Node:C\n",
      "Enter the number of edges for node C:6\n",
      "Enter the adjacent vertex of C:A\n",
      "Enter the adjacent vertex of C:B\n",
      "Enter the adjacent vertex of C:D\n",
      "Enter the adjacent vertex of C:E\n",
      "Enter the adjacent vertex of C:F\n",
      "Enter the adjacent vertex of C:G\n",
      "Enter the Node:D\n",
      "Enter the number of edges for node D:4\n",
      "Enter the adjacent vertex of D:C\n",
      "Enter the adjacent vertex of D:F\n",
      "Enter the adjacent vertex of D:E\n",
      "Enter the adjacent vertex of D:J\n",
      "Enter the Node:E\n",
      "Enter the number of edges for node E:4\n",
      "Enter the adjacent vertex of E:D\n",
      "Enter the adjacent vertex of E:G\n",
      "Enter the adjacent vertex of E:J\n",
      "Enter the adjacent vertex of E:K\n",
      "Enter the Node:F\n",
      "Enter the number of edges for node F:3\n",
      "Enter the adjacent vertex of F:A\n",
      "Enter the adjacent vertex of F:C\n",
      "Enter the adjacent vertex of F:D\n",
      "Enter the Node:G\n",
      "Enter the number of edges for node G:4\n",
      "Enter the adjacent vertex of G:B\n",
      "Enter the adjacent vertex of G:C\n",
      "Enter the adjacent vertex of G:E\n",
      "Enter the adjacent vertex of G:K\n",
      "Enter the Node:J\n",
      "Enter the number of edges for node J:3\n",
      "Enter the adjacent vertex of J:D\n",
      "Enter the adjacent vertex of J:E\n",
      "Enter the adjacent vertex of J:K\n",
      "Enter the Node:K\n",
      "Enter the number of edges for node K:3\n",
      "Enter the adjacent vertex of K:E\n",
      "Enter the adjacent vertex of K:G\n",
      "Enter the adjacent vertex of K:J\n"
     ]
    }
   ],
   "source": [
    "graph=defaultdict(list)\n",
    "n=int(input(\"Enter the number of nodes:\"))\n",
    "for i in range(n):\n",
    "    u=input(\"Enter the Node:\")\n",
    "    e=int(input(f\"Enter the number of edges for node {u}:\"))\n",
    "    for j in range(e):\n",
    "        v=input(f\"Enter the adjacent vertex of {u}:\")\n",
    "        addEdge(u,v)"
   ]
  },
  {
   "cell_type": "code",
   "execution_count": 3,
   "id": "a51cfaf8",
   "metadata": {},
   "outputs": [
    {
     "name": "stdout",
     "output_type": "stream",
     "text": [
      "Enter the start Node:A\n",
      "Enter the Goal Node:K\n",
      "A->C->E->K\n"
     ]
    }
   ],
   "source": [
    "start_node=input(\"Enter the start Node:\")\n",
    "goal_node=input(\"Enter the Goal Node:\")\n",
    "Breadth_First_Search(graph,start_node,goal_node)"
   ]
  },
  {
   "cell_type": "code",
   "execution_count": null,
   "id": "29826c02",
   "metadata": {},
   "outputs": [],
   "source": []
  }
 ],
 "metadata": {
  "kernelspec": {
   "display_name": "Python 3 (ipykernel)",
   "language": "python",
   "name": "python3"
  },
  "language_info": {
   "codemirror_mode": {
    "name": "ipython",
    "version": 3
   },
   "file_extension": ".py",
   "mimetype": "text/x-python",
   "name": "python",
   "nbconvert_exporter": "python",
   "pygments_lexer": "ipython3",
   "version": "3.9.12"
  }
 },
 "nbformat": 4,
 "nbformat_minor": 5
}
